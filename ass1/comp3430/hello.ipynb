{
 "cells": [
  {
   "cell_type": "code",
   "execution_count": 11,
   "id": "cc57c8f3",
   "metadata": {},
   "outputs": [],
   "source": [
    "import pandas as pd\n",
    "import numpy as numpy\n",
    "df = pd.read_csv(\"data_wrangling_medical_2021_u6773547.csv\")"
   ]
  },
  {
   "cell_type": "code",
   "execution_count": 13,
   "id": "22c005de",
   "metadata": {},
   "outputs": [
    {
     "name": "stdout",
     "output_type": "stream",
     "text": [
      "<class 'pandas.core.frame.DataFrame'>\n",
      "RangeIndex: 20000 entries, 0 to 19999\n",
      "Data columns (total 24 columns):\n",
      " #   Column                  Non-Null Count  Dtype  \n",
      "---  ------                  --------------  -----  \n",
      " 0   rec_id                  20000 non-null  object \n",
      " 1   ssn                     20000 non-null  object \n",
      " 2   first_name              20000 non-null  object \n",
      " 3   middle_name             18009 non-null  object \n",
      " 4   last_name               19999 non-null  object \n",
      " 5   gender                  20000 non-null  object \n",
      " 6   age_at_consultation     20000 non-null  int64  \n",
      " 7   birth_date              20000 non-null  object \n",
      " 8   medicare_number         20000 non-null  object \n",
      " 9   street_address          20000 non-null  object \n",
      " 10  suburb                  20000 non-null  object \n",
      " 11  postcode                16003 non-null  float64\n",
      " 12  state                   20000 non-null  object \n",
      " 13  phone                   11966 non-null  object \n",
      " 14  email                   13803 non-null  object \n",
      " 15  marital_status          17418 non-null  object \n",
      " 16  height                  20000 non-null  int64  \n",
      " 17  weight                  20000 non-null  int64  \n",
      " 18  bmi                     20000 non-null  int64  \n",
      " 19  blood_pressure          20000 non-null  int64  \n",
      " 20  cholesterol_level       20000 non-null  int64  \n",
      " 21  smoking_status          20000 non-null  int64  \n",
      " 22  clinical_notes          20000 non-null  object \n",
      " 23  consultation_timestamp  20000 non-null  object \n",
      "dtypes: float64(1), int64(7), object(16)\n",
      "memory usage: 3.7+ MB\n"
     ]
    }
   ],
   "source": [
    "df.info()"
   ]
  }
 ],
 "metadata": {
  "kernelspec": {
   "display_name": "Python 3",
   "language": "python",
   "name": "python3"
  },
  "language_info": {
   "codemirror_mode": {
    "name": "ipython",
    "version": 3
   },
   "file_extension": ".py",
   "mimetype": "text/x-python",
   "name": "python",
   "nbconvert_exporter": "python",
   "pygments_lexer": "ipython3",
   "version": "3.8.8"
  }
 },
 "nbformat": 4,
 "nbformat_minor": 5
}
