{
 "cells": [
  {
   "cell_type": "code",
   "execution_count": 2,
   "id": "9f0c9cba",
   "metadata": {},
   "outputs": [],
   "source": [
    "import numpy as np\n",
    "import pandas as pd\n",
    "r1 = pd.read_csv(\"datasets/data_wrangling_rl1_2021_u6773547.csv\")\n",
    "r2 = pd.read_csv(\"datasets/data_wrangling_rl2_2021_u6773547.csv\")"
   ]
  },
  {
   "cell_type": "code",
   "execution_count": 3,
   "id": "71512ebf",
   "metadata": {},
   "outputs": [
    {
     "name": "stdout",
     "output_type": "stream",
     "text": [
      "<class 'pandas.core.frame.DataFrame'>\n",
      "RangeIndex: 20000 entries, 0 to 19999\n",
      "Data columns (total 13 columns):\n",
      " #   Column          Non-Null Count  Dtype \n",
      "---  ------          --------------  ----- \n",
      " 0   rec_id          20000 non-null  object\n",
      " 1   first_name      19998 non-null  object\n",
      " 2   middle_name     19886 non-null  object\n",
      " 3   last_name       20000 non-null  object\n",
      " 4   gender          20000 non-null  object\n",
      " 5   current_age     20000 non-null  int64 \n",
      " 6   birth_date      20000 non-null  object\n",
      " 7   street_address  19870 non-null  object\n",
      " 8   suburb          20000 non-null  object\n",
      " 9   postcode        20000 non-null  object\n",
      " 10  state           20000 non-null  object\n",
      " 11  phone           18487 non-null  object\n",
      " 12  email           18571 non-null  object\n",
      "dtypes: int64(1), object(12)\n",
      "memory usage: 2.0+ MB\n"
     ]
    }
   ],
   "source": [
    "r1.info()"
   ]
  },
  {
   "cell_type": "code",
   "execution_count": 4,
   "id": "9ea2efd3",
   "metadata": {},
   "outputs": [
    {
     "name": "stdout",
     "output_type": "stream",
     "text": [
      "<class 'pandas.core.frame.DataFrame'>\n",
      "RangeIndex: 20000 entries, 0 to 19999\n",
      "Data columns (total 13 columns):\n",
      " #   Column          Non-Null Count  Dtype \n",
      "---  ------          --------------  ----- \n",
      " 0   rec_id          20000 non-null  object\n",
      " 1   first_name      19998 non-null  object\n",
      " 2   middle_name     19800 non-null  object\n",
      " 3   last_name       20000 non-null  object\n",
      " 4   gender          20000 non-null  object\n",
      " 5   current_age     20000 non-null  int64 \n",
      " 6   birth_date      20000 non-null  object\n",
      " 7   street_address  19881 non-null  object\n",
      " 8   suburb          20000 non-null  object\n",
      " 9   postcode        20000 non-null  object\n",
      " 10  state           20000 non-null  object\n",
      " 11  phone           17319 non-null  object\n",
      " 12  email           17452 non-null  object\n",
      "dtypes: int64(1), object(12)\n",
      "memory usage: 2.0+ MB\n"
     ]
    }
   ],
   "source": [
    "r2.info()"
   ]
  }
 ],
 "metadata": {
  "kernelspec": {
   "display_name": "Python 3",
   "language": "python",
   "name": "python3"
  },
  "language_info": {
   "codemirror_mode": {
    "name": "ipython",
    "version": 3
   },
   "file_extension": ".py",
   "mimetype": "text/x-python",
   "name": "python",
   "nbconvert_exporter": "python",
   "pygments_lexer": "ipython3",
   "version": "3.8.8"
  }
 },
 "nbformat": 4,
 "nbformat_minor": 5
}
