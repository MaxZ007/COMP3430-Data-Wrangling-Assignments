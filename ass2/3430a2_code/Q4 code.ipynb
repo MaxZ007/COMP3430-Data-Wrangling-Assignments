{
 "cells": [
  {
   "cell_type": "code",
   "execution_count": 16,
   "id": "a2ec6f91",
   "metadata": {},
   "outputs": [
    {
     "name": "stdout",
     "output_type": "stream",
     "text": [
      "<class 'pandas.core.frame.DataFrame'>\n",
      "RangeIndex: 15991 entries, 0 to 15990\n",
      "Data columns (total 32 columns):\n",
      " #   Column                  Non-Null Count  Dtype  \n",
      "---  ------                  --------------  -----  \n",
      " 0   rec_id_x                15991 non-null  object \n",
      " 1   ssn                     15991 non-null  object \n",
      " 2   age_at_consultation     15991 non-null  int64  \n",
      " 3   medicare_number         15991 non-null  object \n",
      " 4   marital_status          13919 non-null  object \n",
      " 5   height                  15991 non-null  int64  \n",
      " 6   weight                  15991 non-null  int64  \n",
      " 7   bmi                     15991 non-null  int64  \n",
      " 8   blood_pressure          15991 non-null  int64  \n",
      " 9   cholesterol_level       15991 non-null  int64  \n",
      " 10  smoking_status          15991 non-null  int64  \n",
      " 11  clinical_notes          15991 non-null  object \n",
      " 12  consultation_timestamp  15991 non-null  object \n",
      " 13  rec_id_y                15991 non-null  object \n",
      " 14  current_age             15991 non-null  int64  \n",
      " 15  education               15991 non-null  object \n",
      " 16  occupation              14645 non-null  object \n",
      " 17  salary                  13601 non-null  float64\n",
      " 18  credit_card_number      14645 non-null  object \n",
      " 19  years_of_experience     15991 non-null  int64  \n",
      " 20  employment_timestamp    15991 non-null  object \n",
      " 21  first_name              15991 non-null  object \n",
      " 22  middle_name             14361 non-null  object \n",
      " 23  last_name               15991 non-null  object \n",
      " 24  gender                  15991 non-null  object \n",
      " 25  birth_date              15991 non-null  object \n",
      " 26  street_address          15988 non-null  object \n",
      " 27  suburb                  15978 non-null  object \n",
      " 28  postcode                15545 non-null  object \n",
      " 29  state                   15978 non-null  object \n",
      " 30  phone                   13771 non-null  object \n",
      " 31  email                   13956 non-null  object \n",
      "dtypes: float64(1), int64(9), object(22)\n",
      "memory usage: 3.9+ MB\n"
     ]
    }
   ],
   "source": [
    "#Q4\n",
    "import numpy as np\n",
    "import pandas as pd\n",
    "final_data = pd.read_csv(\"./final_data.csv\", dtype = {'postcode':str})\n",
    "final_data.info()"
   ]
  },
  {
   "cell_type": "code",
   "execution_count": 17,
   "id": "e296931e",
   "metadata": {},
   "outputs": [
    {
     "name": "stdout",
     "output_type": "stream",
     "text": [
      "0810\n"
     ]
    }
   ],
   "source": [
    "# Q4.1 工资有负数\n",
    "print(final_data.postcode[21])"
   ]
  },
  {
   "cell_type": "code",
   "execution_count": 3,
   "id": "6f05adc0",
   "metadata": {},
   "outputs": [
    {
     "name": "stdout",
     "output_type": "stream",
     "text": [
      "['advance-diploma' 'bachelor-degree' 'certificate-i' 'certificate-ii'\n",
      " 'certificate-iii' 'certificate-iv' 'diploma' 'doctoral-degree'\n",
      " 'graduate-certificate' 'graduate-diploma' 'masters-degree' 'pre-school'\n",
      " 'primary-school' 'secondary-school' 'senior-secondary-school']\n"
     ]
    }
   ],
   "source": [
    "# Q4.2\n",
    "edu_unique = np.unique(final_data.education)\n",
    "print(edu_unique)\n",
    "# 小学学历 'pre-school','primary-school'\n",
    "# 高中学历 'secondary-school'，'senior-secondary-school'\n",
    "# TAFE学历 'certificate'，'diploma'\n",
    "# 大学学历 'bachelor-degree','masters-degree','doctoral-degree'"
   ]
  },
  {
   "cell_type": "code",
   "execution_count": 4,
   "id": "c2b479ae",
   "metadata": {},
   "outputs": [
    {
     "name": "stdout",
     "output_type": "stream",
     "text": [
      "[  0   3   5  10  11  12  13  14  16  17  18  19  20  21  23  24  25  27\n",
      "  28  29  31  32  33  34  35  36  37  38  39  40  41  42  43  44  45  46\n",
      "  47  48  49  50  51  52  53  54  55  56  57  58  59  60  61  62  63  64\n",
      "  65  66  67  68  69  70  71  72  73  74  75  76  77  78  79  80  81  82\n",
      "  83  84  85  86  87  88  89  90  91  92  93  94  95  96  97  98  99 100\n",
      " 101 102 103 104 105 106 107 108 109 110 111 112 113 114 115 116 117 118\n",
      " 119 120 121 122 123 124 125 126 127 128 129 130 131 132 133 134 135 136\n",
      " 137 138 139 140 141 142 143 144 145 146 147 148 149 150 151 152 153 154\n",
      " 155 156 157 158 159 160 161 162 163 164 165 166 167 168 169 170 171 172\n",
      " 173 174 175 176 177 178 179 180 181 182 183 184 185 186 187 188 189 190\n",
      " 191 192 193 194 195 196 197 198 199 200 201 202 203 204 205 206 207 208\n",
      " 209 210 211 212 213 214 215 216 217 218 219 220 221 222 223 224 225 226\n",
      " 227 228 229 230 231 232 233 234 235 236 237 238 239 240 241 242 243 244\n",
      " 245 246 247 248 249 250 251 252 253 254 255 256 257 258 259 260 261 262\n",
      " 263 264 265 266 267 268 269 270 271 272 273 274 275 276 277 278 279 280\n",
      " 281 282 283 284 285 286 287 288 289 290 291 292 293 294 295 296 297 298\n",
      " 299 300 301 302 303 304 305 306 307 309 311 312 313 314 315 316 319 320\n",
      " 321 322 324 325 326 329 333 335 336 340 341 342 343 345 347 349 352 355]\n"
     ]
    }
   ],
   "source": [
    "# Q4.2 胆固醇超过200\n",
    "x_unique = np.unique(final_data.cholesterol_level)\n",
    "print(x_unique)"
   ]
  },
  {
   "cell_type": "code",
   "execution_count": 5,
   "id": "1b5e9b01",
   "metadata": {},
   "outputs": [],
   "source": [
    "# Q4.3 medicare_number 侵犯隐私\n",
    "# Q4.2 不用code是三位数，au post checker"
   ]
  },
  {
   "cell_type": "code",
   "execution_count": 18,
   "id": "69f9cf39",
   "metadata": {},
   "outputs": [],
   "source": [
    "# 谨慎使用\n",
    "pd.options.mode.chained_assignment = None\n",
    "\n",
    "for i in range (len(final_data.ssn)):\n",
    "        final_data.medicare_number[i] = np.nan"
   ]
  },
  {
   "cell_type": "code",
   "execution_count": 19,
   "id": "2fca0b28",
   "metadata": {},
   "outputs": [
    {
     "name": "stdout",
     "output_type": "stream",
     "text": [
      "0        NaN\n",
      "1        NaN\n",
      "2        NaN\n",
      "3        NaN\n",
      "4        NaN\n",
      "        ... \n",
      "15986    NaN\n",
      "15987    NaN\n",
      "15988    NaN\n",
      "15989    NaN\n",
      "15990    NaN\n",
      "Name: medicare_number, Length: 15991, dtype: object\n"
     ]
    }
   ],
   "source": [
    "print(final_data.medicare_number)"
   ]
  },
  {
   "cell_type": "code",
   "execution_count": 8,
   "id": "02800faa",
   "metadata": {},
   "outputs": [
    {
     "name": "stdout",
     "output_type": "stream",
     "text": [
      "-9999.0\n"
     ]
    }
   ],
   "source": [
    "print(final_data.salary[0])"
   ]
  },
  {
   "cell_type": "code",
   "execution_count": 20,
   "id": "5d12669c",
   "metadata": {},
   "outputs": [
    {
     "name": "stdout",
     "output_type": "stream",
     "text": [
      "0             NaN\n",
      "1             NaN\n",
      "2             NaN\n",
      "3             NaN\n",
      "4        181859.0\n",
      "           ...   \n",
      "15986     97591.0\n",
      "15987    121336.0\n",
      "15988         NaN\n",
      "15989         0.0\n",
      "15990    117244.0\n",
      "Name: salary, Length: 15991, dtype: float64\n"
     ]
    }
   ],
   "source": [
    "# 谨慎使用\n",
    "pd.options.mode.chained_assignment = None\n",
    "\n",
    "for i in range (len(final_data.ssn)):\n",
    "    if final_data.salary[i] < 0:\n",
    "        final_data.salary[i] = np.nan\n",
    "        \n",
    "print(final_data.salary)"
   ]
  },
  {
   "cell_type": "code",
   "execution_count": 21,
   "id": "ac30b480",
   "metadata": {},
   "outputs": [
    {
     "name": "stdout",
     "output_type": "stream",
     "text": [
      "0        143\n",
      "1        203\n",
      "2        116\n",
      "3        186\n",
      "4        231\n",
      "        ... \n",
      "15986    164\n",
      "15987    304\n",
      "15988    155\n",
      "15989    146\n",
      "15990    146\n",
      "Name: cholesterol_level, Length: 15991, dtype: int64\n"
     ]
    }
   ],
   "source": [
    "print(final_data.cholesterol_level)"
   ]
  },
  {
   "cell_type": "code",
   "execution_count": 22,
   "id": "6016f2b0",
   "metadata": {},
   "outputs": [
    {
     "name": "stdout",
     "output_type": "stream",
     "text": [
      "0          normal\n",
      "1        abnormal\n",
      "2          normal\n",
      "3          normal\n",
      "4        abnormal\n",
      "           ...   \n",
      "15986      normal\n",
      "15987    abnormal\n",
      "15988      normal\n",
      "15989      normal\n",
      "15990      normal\n",
      "Name: cholesterol_level, Length: 15991, dtype: object\n"
     ]
    }
   ],
   "source": [
    "# 谨慎使用\n",
    "pd.options.mode.chained_assignment = None\n",
    "\n",
    "for i in range (len(final_data.ssn)):\n",
    "    if final_data.cholesterol_level[i] < 200:\n",
    "        final_data.cholesterol_level[i] = \"normal\"\n",
    "    else:\n",
    "        final_data.cholesterol_level[i] = \"abnormal\"\n",
    "        \n",
    "print(final_data.cholesterol_level)"
   ]
  },
  {
   "cell_type": "code",
   "execution_count": 23,
   "id": "723eedbb",
   "metadata": {},
   "outputs": [
    {
     "name": "stdout",
     "output_type": "stream",
     "text": [
      "0810\n"
     ]
    }
   ],
   "source": [
    "print(final_data.postcode[21])"
   ]
  },
  {
   "cell_type": "code",
   "execution_count": 24,
   "id": "56b3f7bc",
   "metadata": {},
   "outputs": [],
   "source": [
    "final_data.to_csv(\"data.csv\", index = False)"
   ]
  },
  {
   "cell_type": "code",
   "execution_count": 25,
   "id": "0e4a76bf",
   "metadata": {},
   "outputs": [
    {
     "name": "stdout",
     "output_type": "stream",
     "text": [
      "<class 'pandas.core.frame.DataFrame'>\n",
      "RangeIndex: 15991 entries, 0 to 15990\n",
      "Data columns (total 32 columns):\n",
      " #   Column                  Non-Null Count  Dtype  \n",
      "---  ------                  --------------  -----  \n",
      " 0   rec_id_x                15991 non-null  object \n",
      " 1   ssn                     15991 non-null  object \n",
      " 2   age_at_consultation     15991 non-null  int64  \n",
      " 3   medicare_number         0 non-null      float64\n",
      " 4   marital_status          13919 non-null  object \n",
      " 5   height                  15991 non-null  int64  \n",
      " 6   weight                  15991 non-null  int64  \n",
      " 7   bmi                     15991 non-null  int64  \n",
      " 8   blood_pressure          15991 non-null  int64  \n",
      " 9   cholesterol_level       15991 non-null  object \n",
      " 10  smoking_status          15991 non-null  int64  \n",
      " 11  clinical_notes          15991 non-null  object \n",
      " 12  consultation_timestamp  15991 non-null  object \n",
      " 13  rec_id_y                15991 non-null  object \n",
      " 14  current_age             15991 non-null  int64  \n",
      " 15  education               15991 non-null  object \n",
      " 16  occupation              14645 non-null  object \n",
      " 17  salary                  11176 non-null  float64\n",
      " 18  credit_card_number      14645 non-null  object \n",
      " 19  years_of_experience     15991 non-null  int64  \n",
      " 20  employment_timestamp    15991 non-null  object \n",
      " 21  first_name              15991 non-null  object \n",
      " 22  middle_name             14361 non-null  object \n",
      " 23  last_name               15991 non-null  object \n",
      " 24  gender                  15991 non-null  object \n",
      " 25  birth_date              15991 non-null  object \n",
      " 26  street_address          15988 non-null  object \n",
      " 27  suburb                  15978 non-null  object \n",
      " 28  postcode                15545 non-null  object \n",
      " 29  state                   15978 non-null  object \n",
      " 30  phone                   13771 non-null  object \n",
      " 31  email                   13956 non-null  object \n",
      "dtypes: float64(2), int64(8), object(22)\n",
      "memory usage: 3.9+ MB\n"
     ]
    }
   ],
   "source": [
    "#Q4\n",
    "import numpy as np\n",
    "import pandas as pd\n",
    "data = pd.read_csv(\"./data.csv\", dtype = {'postcode':str})\n",
    "data.info()"
   ]
  },
  {
   "cell_type": "code",
   "execution_count": 26,
   "id": "76c204ef",
   "metadata": {},
   "outputs": [
    {
     "name": "stdout",
     "output_type": "stream",
     "text": [
      "0810\n"
     ]
    }
   ],
   "source": [
    "print(data.postcode[21])"
   ]
  }
 ],
 "metadata": {
  "kernelspec": {
   "display_name": "Python 3",
   "language": "python",
   "name": "python3"
  },
  "language_info": {
   "codemirror_mode": {
    "name": "ipython",
    "version": 3
   },
   "file_extension": ".py",
   "mimetype": "text/x-python",
   "name": "python",
   "nbconvert_exporter": "python",
   "pygments_lexer": "ipython3",
   "version": "3.8.8"
  }
 },
 "nbformat": 4,
 "nbformat_minor": 5
}
