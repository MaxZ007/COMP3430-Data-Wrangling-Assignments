{
 "cells": [
  {
   "cell_type": "code",
   "execution_count": 13,
   "id": "4c89cad7",
   "metadata": {},
   "outputs": [
    {
     "data": {
      "text/html": [
       "<div>\n",
       "<style scoped>\n",
       "    .dataframe tbody tr th:only-of-type {\n",
       "        vertical-align: middle;\n",
       "    }\n",
       "\n",
       "    .dataframe tbody tr th {\n",
       "        vertical-align: top;\n",
       "    }\n",
       "\n",
       "    .dataframe thead th {\n",
       "        text-align: right;\n",
       "    }\n",
       "</style>\n",
       "<table border=\"1\" class=\"dataframe\">\n",
       "  <thead>\n",
       "    <tr style=\"text-align: right;\">\n",
       "      <th></th>\n",
       "      <th>rec_id_x</th>\n",
       "      <th>ssn</th>\n",
       "      <th>age_at_consultation</th>\n",
       "      <th>medicare_number</th>\n",
       "      <th>marital_status</th>\n",
       "      <th>height</th>\n",
       "      <th>weight</th>\n",
       "      <th>bmi</th>\n",
       "      <th>blood_pressure</th>\n",
       "      <th>cholesterol_level</th>\n",
       "      <th>...</th>\n",
       "      <th>middle_name</th>\n",
       "      <th>last_name</th>\n",
       "      <th>gender</th>\n",
       "      <th>birth_date</th>\n",
       "      <th>street_address</th>\n",
       "      <th>suburb</th>\n",
       "      <th>postcode</th>\n",
       "      <th>state</th>\n",
       "      <th>phone</th>\n",
       "      <th>email</th>\n",
       "    </tr>\n",
       "  </thead>\n",
       "  <tbody>\n",
       "    <tr>\n",
       "      <th>0</th>\n",
       "      <td>rec-38255</td>\n",
       "      <td>a119167529</td>\n",
       "      <td>9</td>\n",
       "      <td>1600  34634  2  3</td>\n",
       "      <td>NaN</td>\n",
       "      <td>136</td>\n",
       "      <td>52</td>\n",
       "      <td>28</td>\n",
       "      <td>69</td>\n",
       "      <td>143</td>\n",
       "      <td>...</td>\n",
       "      <td>jackson</td>\n",
       "      <td>rothstein</td>\n",
       "      <td>m</td>\n",
       "      <td>16/6/2005</td>\n",
       "      <td>21  drummond  crescent  glenrowan  hmes</td>\n",
       "      <td>perth</td>\n",
       "      <td>7300</td>\n",
       "      <td>tas</td>\n",
       "      <td>03  6131  4813</td>\n",
       "      <td>nmbhiabbfr@yahoo.com</td>\n",
       "    </tr>\n",
       "    <tr>\n",
       "      <th>1</th>\n",
       "      <td>rec-96960</td>\n",
       "      <td>h148559060</td>\n",
       "      <td>60</td>\n",
       "      <td>8787  78232  1  2</td>\n",
       "      <td>married</td>\n",
       "      <td>174</td>\n",
       "      <td>65</td>\n",
       "      <td>21</td>\n",
       "      <td>77</td>\n",
       "      <td>203</td>\n",
       "      <td>...</td>\n",
       "      <td>m</td>\n",
       "      <td>hinnant</td>\n",
       "      <td>f</td>\n",
       "      <td>9/9/1955</td>\n",
       "      <td>64  ocean  street  pond  house</td>\n",
       "      <td>woollahra</td>\n",
       "      <td>2025</td>\n",
       "      <td>nsw</td>\n",
       "      <td>NaN</td>\n",
       "      <td>james44@yahoo.com</td>\n",
       "    </tr>\n",
       "    <tr>\n",
       "      <th>2</th>\n",
       "      <td>rec-89846</td>\n",
       "      <td>i182575302</td>\n",
       "      <td>15</td>\n",
       "      <td>8938  59176  1  2</td>\n",
       "      <td>NaN</td>\n",
       "      <td>165</td>\n",
       "      <td>88</td>\n",
       "      <td>32</td>\n",
       "      <td>78</td>\n",
       "      <td>116</td>\n",
       "      <td>...</td>\n",
       "      <td>juan</td>\n",
       "      <td>whitfield</td>\n",
       "      <td>f</td>\n",
       "      <td>10/12/2005</td>\n",
       "      <td>4  surf  street  greysands</td>\n",
       "      <td>flynns  beach</td>\n",
       "      <td>2444</td>\n",
       "      <td>nsw</td>\n",
       "      <td>02  7021  1718</td>\n",
       "      <td>michael49@mail.com.au</td>\n",
       "    </tr>\n",
       "    <tr>\n",
       "      <th>3</th>\n",
       "      <td>rec-85752</td>\n",
       "      <td>e141244372</td>\n",
       "      <td>13</td>\n",
       "      <td>2655  78596  2  2</td>\n",
       "      <td>NaN</td>\n",
       "      <td>148</td>\n",
       "      <td>68</td>\n",
       "      <td>31</td>\n",
       "      <td>82</td>\n",
       "      <td>186</td>\n",
       "      <td>...</td>\n",
       "      <td>lawrence</td>\n",
       "      <td>roos</td>\n",
       "      <td>f</td>\n",
       "      <td>15/10/2003</td>\n",
       "      <td>389  barkly  street  flt  3</td>\n",
       "      <td>elwood</td>\n",
       "      <td>3184</td>\n",
       "      <td>vic</td>\n",
       "      <td>03  9318  7858</td>\n",
       "      <td>NaN</td>\n",
       "    </tr>\n",
       "    <tr>\n",
       "      <th>4</th>\n",
       "      <td>rec-82035</td>\n",
       "      <td>b165896593</td>\n",
       "      <td>49</td>\n",
       "      <td>3520  26642  2  2</td>\n",
       "      <td>married-de-facto</td>\n",
       "      <td>185</td>\n",
       "      <td>-99</td>\n",
       "      <td>40</td>\n",
       "      <td>80</td>\n",
       "      <td>231</td>\n",
       "      <td>...</td>\n",
       "      <td>earl</td>\n",
       "      <td>galyean</td>\n",
       "      <td>f</td>\n",
       "      <td>2/3/1965</td>\n",
       "      <td>25  princes  highway  conjola  mountain</td>\n",
       "      <td>conjola</td>\n",
       "      <td>2539</td>\n",
       "      <td>nsw</td>\n",
       "      <td>02  2894  1600</td>\n",
       "      <td>galyean1@hotmail.com</td>\n",
       "    </tr>\n",
       "  </tbody>\n",
       "</table>\n",
       "<p>5 rows × 32 columns</p>\n",
       "</div>"
      ],
      "text/plain": [
       "    rec_id_x         ssn  age_at_consultation      medicare_number  \\\n",
       "0  rec-38255  a119167529                    9   1600  34634  2  3    \n",
       "1  rec-96960  h148559060                   60   8787  78232  1  2    \n",
       "2  rec-89846  i182575302                   15   8938  59176  1  2    \n",
       "3  rec-85752  e141244372                   13   2655  78596  2  2    \n",
       "4  rec-82035  b165896593                   49   3520  26642  2  2    \n",
       "\n",
       "     marital_status  height  weight  bmi  blood_pressure  cholesterol_level  \\\n",
       "0               NaN     136      52   28              69                143   \n",
       "1           married     174      65   21              77                203   \n",
       "2               NaN     165      88   32              78                116   \n",
       "3               NaN     148      68   31              82                186   \n",
       "4  married-de-facto     185     -99   40              80                231   \n",
       "\n",
       "   ...  middle_name  last_name gender  birth_date  \\\n",
       "0  ...      jackson  rothstein      m   16/6/2005   \n",
       "1  ...            m    hinnant      f    9/9/1955   \n",
       "2  ...         juan  whitfield      f  10/12/2005   \n",
       "3  ...     lawrence       roos      f  15/10/2003   \n",
       "4  ...         earl    galyean      f    2/3/1965   \n",
       "\n",
       "                              street_address           suburb postcode  state  \\\n",
       "0   21  drummond  crescent  glenrowan  hmes             perth     7300    tas   \n",
       "1            64  ocean  street  pond  house         woollahra     2025    nsw   \n",
       "2                4  surf  street  greysands    flynns  beach      2444    nsw   \n",
       "3               389  barkly  street  flt  3            elwood     3184    vic   \n",
       "4   25  princes  highway  conjola  mountain           conjola     2539    nsw   \n",
       "\n",
       "              phone                  email  \n",
       "0   03  6131  4813    nmbhiabbfr@yahoo.com  \n",
       "1               NaN      james44@yahoo.com  \n",
       "2   02  7021  1718   michael49@mail.com.au  \n",
       "3   03  9318  7858                     NaN  \n",
       "4   02  2894  1600    galyean1@hotmail.com  \n",
       "\n",
       "[5 rows x 32 columns]"
      ]
     },
     "execution_count": 13,
     "metadata": {},
     "output_type": "execute_result"
    }
   ],
   "source": [
    "import numpy as np\n",
    "import pandas as pd\n",
    "new_data = pd.read_csv(\"./new_data.csv\", dtype = {'postcode':str})\n",
    "new_data.head()"
   ]
  },
  {
   "cell_type": "code",
   "execution_count": 22,
   "id": "3b4dab13",
   "metadata": {},
   "outputs": [
    {
     "name": "stdout",
     "output_type": "stream",
     "text": [
      "0        m\n",
      "1        f\n",
      "2        f\n",
      "3        f\n",
      "4        f\n",
      "        ..\n",
      "15986    f\n",
      "15987    m\n",
      "15988    f\n",
      "15989    m\n",
      "15990    f\n",
      "Name: gender, Length: 15991, dtype: object\n",
      "5675\n"
     ]
    }
   ],
   "source": [
    "print(new_data.gender)\n",
    "sw = [x for x in new_data.gender if x == \"m\"]\n",
    "print(len(sw)) # 方法一"
   ]
  },
  {
   "cell_type": "code",
   "execution_count": 2,
   "id": "52f65fe2",
   "metadata": {},
   "outputs": [
    {
     "name": "stdout",
     "output_type": "stream",
     "text": [
      "<class 'pandas.core.frame.DataFrame'>\n",
      "RangeIndex: 15991 entries, 0 to 15990\n",
      "Data columns (total 32 columns):\n",
      " #   Column                  Non-Null Count  Dtype  \n",
      "---  ------                  --------------  -----  \n",
      " 0   rec_id_x                15991 non-null  object \n",
      " 1   ssn                     15991 non-null  object \n",
      " 2   age_at_consultation     15991 non-null  int64  \n",
      " 3   medicare_number         15991 non-null  object \n",
      " 4   marital_status          13919 non-null  object \n",
      " 5   height                  15991 non-null  int64  \n",
      " 6   weight                  15991 non-null  int64  \n",
      " 7   bmi                     15991 non-null  int64  \n",
      " 8   blood_pressure          15991 non-null  int64  \n",
      " 9   cholesterol_level       15991 non-null  int64  \n",
      " 10  smoking_status          15991 non-null  int64  \n",
      " 11  clinical_notes          15991 non-null  object \n",
      " 12  consultation_timestamp  15991 non-null  object \n",
      " 13  rec_id_y                15991 non-null  object \n",
      " 14  current_age             15991 non-null  int64  \n",
      " 15  education               15991 non-null  object \n",
      " 16  occupation              14645 non-null  object \n",
      " 17  salary                  13601 non-null  float64\n",
      " 18  credit_card_number      14645 non-null  object \n",
      " 19  years_of_experience     15991 non-null  int64  \n",
      " 20  employment_timestamp    15991 non-null  object \n",
      " 21  first_name              15991 non-null  object \n",
      " 22  middle_name             14361 non-null  object \n",
      " 23  last_name               15991 non-null  object \n",
      " 24  gender                  15991 non-null  object \n",
      " 25  birth_date              15991 non-null  object \n",
      " 26  street_address          15988 non-null  object \n",
      " 27  suburb                  15978 non-null  object \n",
      " 28  postcode                15545 non-null  float64\n",
      " 29  state                   15978 non-null  object \n",
      " 30  phone                   13771 non-null  object \n",
      " 31  email                   13956 non-null  object \n",
      "dtypes: float64(2), int64(9), object(21)\n",
      "memory usage: 3.9+ MB\n"
     ]
    }
   ],
   "source": [
    "num_missing = new_data.isna().sum()\n",
    "# print(num_missing)\n",
    "new_data.info()"
   ]
  },
  {
   "cell_type": "code",
   "execution_count": 3,
   "id": "45648c9b",
   "metadata": {},
   "outputs": [
    {
     "name": "stdout",
     "output_type": "stream",
     "text": [
      "rec_id_x                     0\n",
      "ssn                          0\n",
      "age_at_consultation          0\n",
      "medicare_number              0\n",
      "marital_status            2072\n",
      "height                       0\n",
      "weight                       0\n",
      "bmi                          0\n",
      "blood_pressure               0\n",
      "cholesterol_level            0\n",
      "smoking_status               0\n",
      "clinical_notes               0\n",
      "consultation_timestamp       0\n",
      "rec_id_y                     0\n",
      "current_age                  0\n",
      "education                    0\n",
      "occupation                1346\n",
      "salary                    2390\n",
      "credit_card_number        1346\n",
      "years_of_experience          0\n",
      "employment_timestamp         0\n",
      "first_name                   0\n",
      "middle_name               1630\n",
      "last_name                    0\n",
      "gender                       0\n",
      "birth_date                   0\n",
      "street_address               3\n",
      "suburb                      13\n",
      "postcode                   446\n",
      "state                       13\n",
      "phone                     2220\n",
      "email                     2035\n",
      "dtype: int64\n"
     ]
    }
   ],
   "source": [
    "num_missing = new_data.isna().sum()\n",
    "print(num_missing)"
   ]
  },
  {
   "cell_type": "code",
   "execution_count": 4,
   "id": "58613997",
   "metadata": {},
   "outputs": [
    {
     "name": "stdout",
     "output_type": "stream",
     "text": [
      "212\n"
     ]
    }
   ],
   "source": [
    "# Q3.1\n",
    "\n",
    "c1 = new_data.marital_status\n",
    "c2 = new_data.occupation\n",
    "c3 = new_data.salary\n",
    "c4 = new_data.credit_card_number\n",
    "c5 = new_data.middle_name\n",
    "c6 = new_data.phone\n",
    "c7 = new_data.email\n",
    "\n",
    "j = 0\n",
    "for i in range (0, 15991):\n",
    "    if pd.isna(c2[i])== True and pd.isna(c4[i]) == True and pd.isna(c6[i]) == True:\n",
    "        j += 1\n",
    "print(j)"
   ]
  },
  {
   "cell_type": "code",
   "execution_count": 5,
   "id": "7e55f9c6",
   "metadata": {},
   "outputs": [
    {
     "name": "stdout",
     "output_type": "stream",
     "text": [
      "21\n"
     ]
    }
   ],
   "source": [
    "list_output = [198,1346,132,212,196/\n",
    "               198,23,33,44/\n",
    "               132,212,196/\n",
    "               23,26/\n",
    "               56/\n",
    "               198,11,28,30/ \n",
    "               132,212,196/\n",
    "               16,20/\n",
    "               47/\n",
    "               11,28,30/\n",
    "               22,24/\n",
    "               51/\n",
    "               16,20/\n",
    "               47/\n",
    "               41]\n",
    "print(len(list_output))"
   ]
  },
  {
   "cell_type": "code",
   "execution_count": 6,
   "id": "0f4528a9",
   "metadata": {},
   "outputs": [
    {
     "name": "stdout",
     "output_type": "stream",
     "text": [
      "[1346, 212, 212, 212, 198, 198, 198, 196, 196, 196, 132, 132, 132, 56, 51, 47, 47, 44, 41, 33, 30, 30, 28, 28, 26, 24, 23, 23, 22, 20, 20, 16, 16, 11, 11]\n"
     ]
    }
   ],
   "source": [
    "list_output = [198,1346,132,212,196,198,23,33,44,132,212,196,23,26,56,198,11,28,30,132,212,196,16,20,47,11,28,30,22,24,51,16,20,47,41]\n",
    "list_output.sort(reverse = True)\n",
    "print(list_output)"
   ]
  },
  {
   "cell_type": "code",
   "execution_count": 7,
   "id": "94c99ff0",
   "metadata": {
    "scrolled": true
   },
   "outputs": [
    {
     "name": "stdout",
     "output_type": "stream",
     "text": [
      "(1, 2, 3)\n",
      "(1, 2, 4)\n",
      "(1, 2, 5)\n",
      "(1, 2, 6)\n",
      "(1, 2, 7)\n",
      "(1, 3, 4)\n",
      "(1, 3, 5)\n",
      "(1, 3, 6)\n",
      "(1, 3, 7)\n",
      "(1, 4, 5)\n",
      "(1, 4, 6)\n",
      "(1, 4, 7)\n",
      "(1, 5, 6)\n",
      "(1, 5, 7)\n",
      "(1, 6, 7)\n",
      "(2, 3, 4)\n",
      "(2, 3, 5)\n",
      "(2, 3, 6)\n",
      "(2, 3, 7)\n",
      "(2, 4, 5)\n",
      "(2, 4, 6)\n",
      "(2, 4, 7)\n",
      "(2, 5, 6)\n",
      "(2, 5, 7)\n",
      "(2, 6, 7)\n",
      "(3, 4, 5)\n",
      "(3, 4, 6)\n",
      "(3, 4, 7)\n",
      "(3, 5, 6)\n",
      "(3, 5, 7)\n",
      "(3, 6, 7)\n",
      "(4, 5, 6)\n",
      "(4, 5, 7)\n",
      "(4, 6, 7)\n",
      "(5, 6, 7)\n",
      "35\n"
     ]
    }
   ],
   "source": [
    "# A Python program to print all\n",
    "# combinations of given length\n",
    "from itertools import combinations\n",
    " \n",
    "# Get all combinations of [1, 2, 3, 4, 5, 6, 7]\n",
    "# and length 3\n",
    "comb = combinations([1, 2, 3, 4, 5, 6, 7], 3)\n",
    " \n",
    "# Print the obtained combinations\n",
    "a =[]\n",
    "for i in list(comb):\n",
    "    print (i)\n",
    "    a.append(i)\n",
    "print(len(a))"
   ]
  },
  {
   "cell_type": "code",
   "execution_count": 8,
   "id": "51ab9162",
   "metadata": {},
   "outputs": [
    {
     "name": "stdout",
     "output_type": "stream",
     "text": [
      "1589\n",
      "9493\n"
     ]
    }
   ],
   "source": [
    "# Q3.3\n",
    "# 体重大于0的有 14402(1589)\n",
    "# 身高大于0的有 15991\n",
    "# BMI大于0的有\n",
    "c = len([i for i in new_data.weight if i < 0])\n",
    "print(c)\n",
    "# 薪水小于0 9493\n",
    "s = len([i for i in new_data.salary if i > 0])\n",
    "print(s)"
   ]
  },
  {
   "cell_type": "code",
   "execution_count": 16,
   "id": "ec324bb9",
   "metadata": {},
   "outputs": [
    {
     "name": "stdout",
     "output_type": "stream",
     "text": [
      "131.0\n",
      "130.67999999999998\n",
      "132\n"
     ]
    }
   ],
   "source": [
    "# BMI四舍五入不准\n",
    "print(np.ceil(new_data.bmi[7] * (new_data.height[7]/100)**2))\n",
    "print(new_data.bmi[7] * (new_data.height[7]/100)**2)\n",
    "print(np.around(new_data.weight[7]))"
   ]
  },
  {
   "cell_type": "code",
   "execution_count": 17,
   "id": "1e23d1c0",
   "metadata": {},
   "outputs": [],
   "source": [
    "# 谨慎使用\n",
    "pd.options.mode.chained_assignment = None\n",
    "\n",
    "for i in range (len(new_data.weight)):\n",
    "    if new_data.weight[i] < 0:\n",
    "        new_data.weight[i] = np.ceil(new_data.bmi[i] * (new_data.height[i]/100)**2)"
   ]
  },
  {
   "cell_type": "code",
   "execution_count": 18,
   "id": "a362d0d2",
   "metadata": {},
   "outputs": [
    {
     "name": "stdout",
     "output_type": "stream",
     "text": [
      "0\n"
     ]
    }
   ],
   "source": [
    "# 检查发现没有负值的weight了\n",
    "c = len([i for i in new_data.weight if i < 0])\n",
    "print(c)"
   ]
  },
  {
   "cell_type": "code",
   "execution_count": 19,
   "id": "82632745",
   "metadata": {},
   "outputs": [],
   "source": [
    "new_data.to_csv(\"final_data.csv\", index = False)"
   ]
  }
 ],
 "metadata": {
  "kernelspec": {
   "display_name": "Python 3",
   "language": "python",
   "name": "python3"
  },
  "language_info": {
   "codemirror_mode": {
    "name": "ipython",
    "version": 3
   },
   "file_extension": ".py",
   "mimetype": "text/x-python",
   "name": "python",
   "nbconvert_exporter": "python",
   "pygments_lexer": "ipython3",
   "version": "3.8.8"
  }
 },
 "nbformat": 4,
 "nbformat_minor": 5
}
